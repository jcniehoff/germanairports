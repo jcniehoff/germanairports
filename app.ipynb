{
 "cells": [
  {
   "cell_type": "code",
   "execution_count": 3,
   "id": "initial_id",
   "metadata": {
    "collapsed": true,
    "ExecuteTime": {
     "end_time": "2024-01-12T18:59:38.523206Z",
     "start_time": "2024-01-12T18:59:38.278991Z"
    }
   },
   "outputs": [],
   "source": [
    "from dash import Dash, dcc, html, Output, Input\n",
    "import plotly.express as px"
   ]
  },
  {
   "cell_type": "code",
   "outputs": [
    {
     "data": {
      "text/plain": "<IPython.lib.display.IFrame at 0x7fa337686eb0>",
      "text/html": "\n        <iframe\n            width=\"100%\"\n            height=\"650\"\n            src=\"http://127.0.0.1:8050/\"\n            frameborder=\"0\"\n            allowfullscreen\n        ></iframe>\n        "
     },
     "metadata": {},
     "output_type": "display_data"
    }
   ],
   "source": [
    "df = px.data.tips()\n",
    "app = Dash(__name__)\n",
    "\n",
    "radio_b = dcc.RadioItems(df.columns, 'time')\n",
    "my_graph = dcc.Graph()\n",
    "app.layout = html.Div([radio_b, my_graph])\n",
    "\n",
    "@app.callback(Output(my_graph, 'figure'),\n",
    "              Input(radio_b, 'value'))\n",
    "def update_graph(value):\n",
    "   fig = px.bar(df, x=value, y=\"tip\")\n",
    "   return fig\n",
    "if __name__ == '__main__':\n",
    "   app.run()\n"
   ],
   "metadata": {
    "collapsed": false,
    "ExecuteTime": {
     "end_time": "2024-01-12T18:59:39.759766Z",
     "start_time": "2024-01-12T18:59:38.422874Z"
    }
   },
   "id": "872fd58297294fe7",
   "execution_count": 4
  },
  {
   "cell_type": "code",
   "outputs": [
    {
     "data": {
      "text/plain": "Textarea(style={'width': '100%', 'height': 300}, value='Textarea content')"
     },
     "execution_count": 5,
     "metadata": {},
     "output_type": "execute_result"
    }
   ],
   "source": [
    "dcc.Dropdown(['kiwi', 'banana', 'apple'], value='orange')\n",
    "\n",
    "dcc.Slider(0,20,5, value=10)\n",
    "\n",
    "dcc.RadioItems(['Purple', 'Red','Pink'], value='Red')\n",
    "\n",
    "df = px.data.tips()\n",
    "fig = px.bar(df, x='time',y='tip')\n",
    "dcc.Graph(figure=fig)\n",
    "\n",
    "html.Button('Submit', n_clicks=0)\n",
    "\n",
    "dcc.RangeSlider(0,20,1, value=[5, 15])\n",
    "\n",
    "dcc.Textarea(      \n",
    "value='Textarea content',\n",
    "style={'width': '100%',  'height': 300})"
   ],
   "metadata": {
    "collapsed": false,
    "ExecuteTime": {
     "end_time": "2024-01-12T19:01:56.747551Z",
     "start_time": "2024-01-12T19:01:55.808810Z"
    }
   },
   "id": "71579de0e3a7ecae",
   "execution_count": 5
  },
  {
   "cell_type": "code",
   "outputs": [
    {
     "data": {
      "text/plain": "<IPython.lib.display.IFrame at 0x7fa3376d6d90>",
      "text/html": "\n        <iframe\n            width=\"100%\"\n            height=\"650\"\n            src=\"http://127.0.0.1:8050/\"\n            frameborder=\"0\"\n            allowfullscreen\n        ></iframe>\n        "
     },
     "metadata": {},
     "output_type": "display_data"
    }
   ],
   "source": [
    "if __name__ == '__main__':\n",
    "   app.run()"
   ],
   "metadata": {
    "collapsed": false,
    "ExecuteTime": {
     "end_time": "2024-01-12T19:02:14.782825Z",
     "start_time": "2024-01-12T19:02:14.497787Z"
    }
   },
   "id": "5ca93965ebb78200",
   "execution_count": 6
  },
  {
   "cell_type": "code",
   "outputs": [
    {
     "data": {
      "text/plain": "<IPython.lib.display.IFrame at 0x7fa3389007f0>",
      "text/html": "\n        <iframe\n            width=\"100%\"\n            height=\"650\"\n            src=\"http://127.0.0.1:8050/\"\n            frameborder=\"0\"\n            allowfullscreen\n        ></iframe>\n        "
     },
     "metadata": {},
     "output_type": "display_data"
    }
   ],
   "source": [
    "import dash\n",
    "from dash import Dash, dcc, html, Output, Input\n",
    "import plotly.express as px\n",
    "import pandas as pd\n",
    "\n",
    "# Initialize the Dash app\n",
    "app = dash.Dash(__name__)\n",
    "\n",
    "# Assume df is your DataFrame after processing the data with columns 'Name', 'City', 'Latitude', 'Longitude'\n",
    "df = pd.read_csv(\"AirportsGermany\")  # You would load your data here\n",
    "\n",
    "# Parse the coordinates from the last column and add them as separate columns\n",
    "# df['Latitude'] = df['coordinates_column'].apply(lambda x: float(x.split(',')[0]))\n",
    "# df['Longitude'] = df['coordinates_column'].apply(lambda x: float(x.split(',')[1]))\n",
    "\n",
    "# Create the Plotly map\n",
    "fig = px.scatter_mapbox(df, lat=\"Latitude\", lon=\"Longitude\", hover_name=\"Name des Flughafens\",\n",
    "                        hover_data=[\"Ort\", \"Land\"], zoom=10)\n",
    "\n",
    "fig.update_layout(mapbox_style=\"open-street-map\")\n",
    "fig.update_layout(margin={\"r\":0,\"t\":0,\"l\":0,\"b\":0})\n",
    "\n",
    "# Define the layout of the Dash app\n",
    "app.layout = html.Div([\n",
    "    dcc.Graph(\n",
    "        id='germany-airports-map',\n",
    "        figure=fig\n",
    "    ),\n",
    "    html.Div(id='clicked-data')\n",
    "])\n",
    "\n",
    "\n",
    "# Define callback to update the click-data div\n",
    "@app.callback(\n",
    "    Output('clicked-data', 'children'),\n",
    "    [Input('germany-airports-map', 'clickData')]\n",
    ")\n",
    "def display_click_data(clickData):\n",
    "    if clickData is not None:\n",
    "        return html.P(str(clickData))\n",
    "    else:\n",
    "        return 'Click on an airport'\n",
    "\n",
    "\n",
    "# Run the Dash app\n",
    "if __name__ == '__main__':\n",
    "    app.run_server(debug=True)\n"
   ],
   "metadata": {
    "collapsed": false,
    "ExecuteTime": {
     "end_time": "2024-01-12T19:34:46.535584Z",
     "start_time": "2024-01-12T19:34:44.794932Z"
    }
   },
   "id": "346dc07794cb8067",
   "execution_count": 13
  },
  {
   "cell_type": "code",
   "outputs": [],
   "source": [],
   "metadata": {
    "collapsed": false
   },
   "id": "47ef2586c5409ac2"
  }
 ],
 "metadata": {
  "kernelspec": {
   "display_name": "Python 3",
   "language": "python",
   "name": "python3"
  },
  "language_info": {
   "codemirror_mode": {
    "name": "ipython",
    "version": 2
   },
   "file_extension": ".py",
   "mimetype": "text/x-python",
   "name": "python",
   "nbconvert_exporter": "python",
   "pygments_lexer": "ipython2",
   "version": "2.7.6"
  }
 },
 "nbformat": 4,
 "nbformat_minor": 5
}
