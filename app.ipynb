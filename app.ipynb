{
 "cells": [
  {
   "cell_type": "code",
   "outputs": [
    {
     "data": {
      "text/plain": "<IPython.lib.display.IFrame at 0x7fa337b00550>",
      "text/html": "\n        <iframe\n            width=\"100%\"\n            height=\"650\"\n            src=\"http://127.0.0.1:8050/\"\n            frameborder=\"0\"\n            allowfullscreen\n        ></iframe>\n        "
     },
     "metadata": {},
     "output_type": "display_data"
    }
   ],
   "source": [
    "import dash\n",
    "from dash import Dash, dcc, html, Output, Input\n",
    "import plotly.express as px\n",
    "import pandas as pd\n",
    "\n",
    "# Initialize the Dash app\n",
    "app = dash.Dash(__name__)\n",
    "\n",
    "# Assume df is your DataFrame after processing the data with columns 'Name', 'City', 'Latitude', 'Longitude'\n",
    "df = pd.read_csv(\"AirportsGermany\")  # You would load your data here\n",
    "\n",
    "# Parse the coordinates from the last column and add them as separate columns\n",
    "# df['Latitude'] = df['coordinates_column'].apply(lambda x: float(x.split(',')[0]))\n",
    "# df['Longitude'] = df['coordinates_column'].apply(lambda x: float(x.split(',')[1]))\n",
    "\n",
    "# Create the Plotly map\n",
    "fig = px.scatter_mapbox(df, lat=\"Latitude\", lon=\"Longitude\", hover_name=\"Name des Flughafens\",\n",
    "                        hover_data=[\"Altitude\",\"Ort\", \"IATA\"], zoom=5)\n",
    "\n",
    "fig.update_layout(mapbox_style=\"open-street-map\")\n",
    "fig.update_layout(margin={\"r\":0,\"t\":0,\"l\":0,\"b\":0})\n",
    "\n",
    "# Define the layout of the Dash app\n",
    "app.layout = html.Div([\n",
    "    dcc.Graph(\n",
    "        id='germany-airports-map',\n",
    "        figure=fig\n",
    "    ),\n",
    "    html.Div(id='clicked-data')\n",
    "])\n",
    "\n",
    "\n",
    "# Define callback to update the click-data div\n",
    "@app.callback(\n",
    "    Output('clicked-data', 'children'),\n",
    "    [Input('germany-airports-map', 'clickData')]\n",
    ")\n",
    "\n",
    "def display_click_data(clickData):\n",
    "    if clickData is not None:\n",
    "        return html.P(str(clickData))\n",
    "    else:\n",
    "        return 'Click on an airport'\n",
    "\n",
    "# Run the Dash app\n",
    "if __name__ == '__main__':\n",
    "    app.run_server(debug=True)\n"
   ],
   "metadata": {
    "collapsed": false,
    "ExecuteTime": {
     "end_time": "2024-01-12T21:08:30.856716Z",
     "start_time": "2024-01-12T21:08:29.407473Z"
    }
   },
   "id": "346dc07794cb8067",
   "execution_count": 20
  }
 ],
 "metadata": {
  "kernelspec": {
   "display_name": "Python 3",
   "language": "python",
   "name": "python3"
  },
  "language_info": {
   "codemirror_mode": {
    "name": "ipython",
    "version": 2
   },
   "file_extension": ".py",
   "mimetype": "text/x-python",
   "name": "python",
   "nbconvert_exporter": "python",
   "pygments_lexer": "ipython2",
   "version": "2.7.6"
  }
 },
 "nbformat": 4,
 "nbformat_minor": 5
}
