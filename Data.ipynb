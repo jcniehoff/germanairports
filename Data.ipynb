{
 "cells": [
  {
   "cell_type": "markdown",
   "source": [
    "# Interactive Dashboard of German Airports\n",
    "In this Dashboard i want to be able to see a map of germany where I can click the individual airpoirts and get more information"
   ],
   "metadata": {
    "collapsed": false
   },
   "id": "a83ee646ea34810b"
  },
  {
   "cell_type": "markdown",
   "source": [],
   "metadata": {
    "collapsed": false
   },
   "id": "36a097b59c4529a"
  },
  {
   "cell_type": "code",
   "execution_count": 154,
   "id": "initial_id",
   "metadata": {
    "collapsed": true,
    "ExecuteTime": {
     "end_time": "2024-01-12T18:40:16.583319Z",
     "start_time": "2024-01-12T18:40:16.514388Z"
    }
   },
   "outputs": [],
   "source": [
    "import pandas as pd\n",
    "import numpy as np"
   ]
  },
  {
   "cell_type": "code",
   "outputs": [
    {
     "data": {
      "text/plain": "     Lfd. Nummer        Name des Flughafens                Ort         Land  \\\n0            330   Jena-Schöngleina Airport               Jena  Deutschland   \n1          10723    Elsenthal Grafe Airport          Elsenthal  Deutschland   \n2            320   Eisenhüttenstadt Airport  Eisenhuettenstadt  Deutschland   \n3            317            Bautzen Airport            Bautzen  Deutschland   \n4           7903      Marl-Loemühle Airport     Recklinghausen  Deutschland   \n..           ...                        ...                ...          ...   \n265          779     Coleman Army Air Field            Coleman  Deutschland   \n266          783             Erding Airport             Erding  Deutschland   \n267          784  Fürstenfeldbruck Air Base  Fuerstenfeldbruck  Deutschland   \n268          788                Neuburg AFB            Neuburg  Deutschland   \n269          789         Gütersloh Air Base         Guetersloh  Deutschland   \n\n    IATA  ICAO   Latitude  Longitude  Altitude  Zeitzone DST  \\\n0      0  EDBJ  50.915279  11.714444       380       1.0   E   \n1      0  EDNF  48.822498  13.367500       432       1.0   E   \n2      0  EDAE  52.195856  14.587530        44       1.0   E   \n3      0  EDAB  51.193611  14.519722       173       1.0   E   \n4      0  EDLM  51.647202   7.163330        73       1.0   U   \n..   ...   ...        ...        ...       ...       ...  ..   \n265    0  ETOR  49.563599   8.463390        94       1.0   E   \n266    0  ETSE  48.322300  11.948700       462       1.0   E   \n267  FEL  ETSF  48.205555  11.266944       519       1.0   E   \n268    0  ETSN  48.710999  11.211500       381       1.0   E   \n269  GUT  ETUO  51.922798   8.306330        72       1.0   E   \n\n    Zeitzonen-Datenbank                              geo_punkt  \n0         Europe/Berlin           50.9152793884, 11.7144441605  \n1                     0           48.8224983215, 13.3675003052  \n2         Europe/Berlin                    52.195856, 14.58753  \n3         Europe/Berlin            51.193611145, 14.5197219849  \n4         Europe/Berlin                     51.647202, 7.16333  \n..                  ...                                    ...  \n265       Europe/Berlin    49.5635986328125, 8.463390350341797  \n266       Europe/Berlin  48.32229995727539, 11.948699951171875  \n267       Europe/Berlin                   48.205555, 11.266944  \n268       Europe/Berlin                     48.710999, 11.2115  \n269       Europe/Berlin                     51.922798, 8.30633  \n\n[270 rows x 13 columns]",
      "text/html": "<div>\n<style scoped>\n    .dataframe tbody tr th:only-of-type {\n        vertical-align: middle;\n    }\n\n    .dataframe tbody tr th {\n        vertical-align: top;\n    }\n\n    .dataframe thead th {\n        text-align: right;\n    }\n</style>\n<table border=\"1\" class=\"dataframe\">\n  <thead>\n    <tr style=\"text-align: right;\">\n      <th></th>\n      <th>Lfd. Nummer</th>\n      <th>Name des Flughafens</th>\n      <th>Ort</th>\n      <th>Land</th>\n      <th>IATA</th>\n      <th>ICAO</th>\n      <th>Latitude</th>\n      <th>Longitude</th>\n      <th>Altitude</th>\n      <th>Zeitzone</th>\n      <th>DST</th>\n      <th>Zeitzonen-Datenbank</th>\n      <th>geo_punkt</th>\n    </tr>\n  </thead>\n  <tbody>\n    <tr>\n      <th>0</th>\n      <td>330</td>\n      <td>Jena-Schöngleina Airport</td>\n      <td>Jena</td>\n      <td>Deutschland</td>\n      <td>0</td>\n      <td>EDBJ</td>\n      <td>50.915279</td>\n      <td>11.714444</td>\n      <td>380</td>\n      <td>1.0</td>\n      <td>E</td>\n      <td>Europe/Berlin</td>\n      <td>50.9152793884, 11.7144441605</td>\n    </tr>\n    <tr>\n      <th>1</th>\n      <td>10723</td>\n      <td>Elsenthal Grafe Airport</td>\n      <td>Elsenthal</td>\n      <td>Deutschland</td>\n      <td>0</td>\n      <td>EDNF</td>\n      <td>48.822498</td>\n      <td>13.367500</td>\n      <td>432</td>\n      <td>1.0</td>\n      <td>E</td>\n      <td>0</td>\n      <td>48.8224983215, 13.3675003052</td>\n    </tr>\n    <tr>\n      <th>2</th>\n      <td>320</td>\n      <td>Eisenhüttenstadt Airport</td>\n      <td>Eisenhuettenstadt</td>\n      <td>Deutschland</td>\n      <td>0</td>\n      <td>EDAE</td>\n      <td>52.195856</td>\n      <td>14.587530</td>\n      <td>44</td>\n      <td>1.0</td>\n      <td>E</td>\n      <td>Europe/Berlin</td>\n      <td>52.195856, 14.58753</td>\n    </tr>\n    <tr>\n      <th>3</th>\n      <td>317</td>\n      <td>Bautzen Airport</td>\n      <td>Bautzen</td>\n      <td>Deutschland</td>\n      <td>0</td>\n      <td>EDAB</td>\n      <td>51.193611</td>\n      <td>14.519722</td>\n      <td>173</td>\n      <td>1.0</td>\n      <td>E</td>\n      <td>Europe/Berlin</td>\n      <td>51.193611145, 14.5197219849</td>\n    </tr>\n    <tr>\n      <th>4</th>\n      <td>7903</td>\n      <td>Marl-Loemühle Airport</td>\n      <td>Recklinghausen</td>\n      <td>Deutschland</td>\n      <td>0</td>\n      <td>EDLM</td>\n      <td>51.647202</td>\n      <td>7.163330</td>\n      <td>73</td>\n      <td>1.0</td>\n      <td>U</td>\n      <td>Europe/Berlin</td>\n      <td>51.647202, 7.16333</td>\n    </tr>\n    <tr>\n      <th>...</th>\n      <td>...</td>\n      <td>...</td>\n      <td>...</td>\n      <td>...</td>\n      <td>...</td>\n      <td>...</td>\n      <td>...</td>\n      <td>...</td>\n      <td>...</td>\n      <td>...</td>\n      <td>...</td>\n      <td>...</td>\n      <td>...</td>\n    </tr>\n    <tr>\n      <th>265</th>\n      <td>779</td>\n      <td>Coleman Army Air Field</td>\n      <td>Coleman</td>\n      <td>Deutschland</td>\n      <td>0</td>\n      <td>ETOR</td>\n      <td>49.563599</td>\n      <td>8.463390</td>\n      <td>94</td>\n      <td>1.0</td>\n      <td>E</td>\n      <td>Europe/Berlin</td>\n      <td>49.5635986328125, 8.463390350341797</td>\n    </tr>\n    <tr>\n      <th>266</th>\n      <td>783</td>\n      <td>Erding Airport</td>\n      <td>Erding</td>\n      <td>Deutschland</td>\n      <td>0</td>\n      <td>ETSE</td>\n      <td>48.322300</td>\n      <td>11.948700</td>\n      <td>462</td>\n      <td>1.0</td>\n      <td>E</td>\n      <td>Europe/Berlin</td>\n      <td>48.32229995727539, 11.948699951171875</td>\n    </tr>\n    <tr>\n      <th>267</th>\n      <td>784</td>\n      <td>Fürstenfeldbruck Air Base</td>\n      <td>Fuerstenfeldbruck</td>\n      <td>Deutschland</td>\n      <td>FEL</td>\n      <td>ETSF</td>\n      <td>48.205555</td>\n      <td>11.266944</td>\n      <td>519</td>\n      <td>1.0</td>\n      <td>E</td>\n      <td>Europe/Berlin</td>\n      <td>48.205555, 11.266944</td>\n    </tr>\n    <tr>\n      <th>268</th>\n      <td>788</td>\n      <td>Neuburg AFB</td>\n      <td>Neuburg</td>\n      <td>Deutschland</td>\n      <td>0</td>\n      <td>ETSN</td>\n      <td>48.710999</td>\n      <td>11.211500</td>\n      <td>381</td>\n      <td>1.0</td>\n      <td>E</td>\n      <td>Europe/Berlin</td>\n      <td>48.710999, 11.2115</td>\n    </tr>\n    <tr>\n      <th>269</th>\n      <td>789</td>\n      <td>Gütersloh Air Base</td>\n      <td>Guetersloh</td>\n      <td>Deutschland</td>\n      <td>GUT</td>\n      <td>ETUO</td>\n      <td>51.922798</td>\n      <td>8.306330</td>\n      <td>72</td>\n      <td>1.0</td>\n      <td>E</td>\n      <td>Europe/Berlin</td>\n      <td>51.922798, 8.30633</td>\n    </tr>\n  </tbody>\n</table>\n<p>270 rows × 13 columns</p>\n</div>"
     },
     "execution_count": 155,
     "metadata": {},
     "output_type": "execute_result"
    }
   ],
   "source": [
    "data = pd.read_csv(\"rhein-kreis-neuss-flughafen-weltweit-2.csv\", delimiter=\";\")\n",
    "data"
   ],
   "metadata": {
    "collapsed": false,
    "ExecuteTime": {
     "end_time": "2024-01-12T18:40:16.726015Z",
     "start_time": "2024-01-12T18:40:16.593823Z"
    }
   },
   "id": "f67fcd431266dbac",
   "execution_count": 155
  },
  {
   "cell_type": "markdown",
   "source": [],
   "metadata": {
    "collapsed": false
   },
   "id": "c1103a34b94c1261"
  },
  {
   "cell_type": "code",
   "outputs": [
    {
     "data": {
      "text/plain": "        Lfd. Nummer    Latitude   Longitude     Altitude    Zeitzone\ncount    270.000000  270.000000  270.000000   270.000000  270.000000\nmean    4275.625926   51.206163    8.768066   188.000000    0.907407\nstd     4229.782227    2.472741   11.530276   205.890955    0.777675\nmin      317.000000   30.704399 -108.730003     0.000000   -7.000000\n25%      378.250000   49.829307    8.156805    39.000000    1.000000\n50%      782.500000   51.420581    9.555751    98.500000    1.000000\n75%     8100.750000   52.748829   11.785425   321.250000    1.000000\nmax    13248.000000   59.345100   17.740499  1703.000000    1.000000",
      "text/html": "<div>\n<style scoped>\n    .dataframe tbody tr th:only-of-type {\n        vertical-align: middle;\n    }\n\n    .dataframe tbody tr th {\n        vertical-align: top;\n    }\n\n    .dataframe thead th {\n        text-align: right;\n    }\n</style>\n<table border=\"1\" class=\"dataframe\">\n  <thead>\n    <tr style=\"text-align: right;\">\n      <th></th>\n      <th>Lfd. Nummer</th>\n      <th>Latitude</th>\n      <th>Longitude</th>\n      <th>Altitude</th>\n      <th>Zeitzone</th>\n    </tr>\n  </thead>\n  <tbody>\n    <tr>\n      <th>count</th>\n      <td>270.000000</td>\n      <td>270.000000</td>\n      <td>270.000000</td>\n      <td>270.000000</td>\n      <td>270.000000</td>\n    </tr>\n    <tr>\n      <th>mean</th>\n      <td>4275.625926</td>\n      <td>51.206163</td>\n      <td>8.768066</td>\n      <td>188.000000</td>\n      <td>0.907407</td>\n    </tr>\n    <tr>\n      <th>std</th>\n      <td>4229.782227</td>\n      <td>2.472741</td>\n      <td>11.530276</td>\n      <td>205.890955</td>\n      <td>0.777675</td>\n    </tr>\n    <tr>\n      <th>min</th>\n      <td>317.000000</td>\n      <td>30.704399</td>\n      <td>-108.730003</td>\n      <td>0.000000</td>\n      <td>-7.000000</td>\n    </tr>\n    <tr>\n      <th>25%</th>\n      <td>378.250000</td>\n      <td>49.829307</td>\n      <td>8.156805</td>\n      <td>39.000000</td>\n      <td>1.000000</td>\n    </tr>\n    <tr>\n      <th>50%</th>\n      <td>782.500000</td>\n      <td>51.420581</td>\n      <td>9.555751</td>\n      <td>98.500000</td>\n      <td>1.000000</td>\n    </tr>\n    <tr>\n      <th>75%</th>\n      <td>8100.750000</td>\n      <td>52.748829</td>\n      <td>11.785425</td>\n      <td>321.250000</td>\n      <td>1.000000</td>\n    </tr>\n    <tr>\n      <th>max</th>\n      <td>13248.000000</td>\n      <td>59.345100</td>\n      <td>17.740499</td>\n      <td>1703.000000</td>\n      <td>1.000000</td>\n    </tr>\n  </tbody>\n</table>\n</div>"
     },
     "execution_count": 156,
     "metadata": {},
     "output_type": "execute_result"
    }
   ],
   "source": [
    "data = data.sort_values('Lfd. Nummer')\n",
    "data.describe()"
   ],
   "metadata": {
    "collapsed": false,
    "ExecuteTime": {
     "end_time": "2024-01-12T18:40:16.874266Z",
     "start_time": "2024-01-12T18:40:16.670682Z"
    }
   },
   "id": "5958f01c4692e1f9",
   "execution_count": 156
  },
  {
   "cell_type": "code",
   "outputs": [
    {
     "data": {
      "text/plain": "     Lfd. Nummer        Name des Flughafens                Ort         Land  \\\n221          317          Flugplatz Bautzen            Bautzen  Deutschland   \n222          318   Altenburg-Nobitz Airport          Altenburg  Deutschland   \n13           319             Dessau Airport             Dessau  Deutschland   \n139          320  Eisenhüttenstadt Airfield  Eisenhuettenstadt  Deutschland   \n140          322         Großenhain Airport               Suhl  Deutschland   \n..           ...                        ...                ...          ...   \n219        13009         Vogtareuth Airport         Vogtareuth  Deutschland   \n220        13120     Rerik-Zweedorf Airport              Rerik  Deutschland   \n191        13183      Bonn-Hangelar Airport     Sankt-Augustin  Deutschland   \n66         13199           Northeim Airport           Northeim  Deutschland   \n67         13248    Torgau-Beilrode Airport            Gransee  Deutschland   \n\n    IATA  ICAO   Latitude  Longitude  Altitude  Zeitzone DST  \\\n221    0  EDAB  51.193611  14.519722       173         1   E   \n222  AOC  EDAC  50.981945  12.506389       195         1   E   \n13     0  EDAD  51.831694  12.190962        57         1   E   \n139    0  EDAE  52.195856  14.587530        44         1   E   \n140    0  EDAK  51.308056  13.555556       127         1   E   \n..   ...   ...        ...        ...       ...       ...  ..   \n219    0  EDNV  47.946110  12.204722       468         1   E   \n220    0  EDCR  54.081944  11.649167         9         1   E   \n191  BNJ  EDKB  50.768890   7.163333        60         1   E   \n66     0  EDVN  51.706390  10.039722       123         1   E   \n67     0  EDOG  51.570907  13.051641         0         1   E   \n\n    Zeitzonen-Datenbank                               geo_punkt  \n221       Europe/Berlin                    51.193611, 14.519722  \n222       Europe/Berlin                    50.981945, 12.506389  \n13        Europe/Berlin             51.831693541, 12.1909618378  \n139       Europe/Berlin                     52.195856, 14.58753  \n140       Europe/Berlin   51.30805587768555, 13.555556297302246  \n..                  ...                                     ...  \n219                   0   47.946109771728516, 12.20472240447998  \n220                   0    54.08194351196289, 11.64916706085205  \n191                   0            50.7688903809, 7.16333293915  \n66                    0  51.706390380859375, 10.039722442626953  \n67                    0                    51.570907, 13.051641  \n\n[249 rows x 13 columns]",
      "text/html": "<div>\n<style scoped>\n    .dataframe tbody tr th:only-of-type {\n        vertical-align: middle;\n    }\n\n    .dataframe tbody tr th {\n        vertical-align: top;\n    }\n\n    .dataframe thead th {\n        text-align: right;\n    }\n</style>\n<table border=\"1\" class=\"dataframe\">\n  <thead>\n    <tr style=\"text-align: right;\">\n      <th></th>\n      <th>Lfd. Nummer</th>\n      <th>Name des Flughafens</th>\n      <th>Ort</th>\n      <th>Land</th>\n      <th>IATA</th>\n      <th>ICAO</th>\n      <th>Latitude</th>\n      <th>Longitude</th>\n      <th>Altitude</th>\n      <th>Zeitzone</th>\n      <th>DST</th>\n      <th>Zeitzonen-Datenbank</th>\n      <th>geo_punkt</th>\n    </tr>\n  </thead>\n  <tbody>\n    <tr>\n      <th>221</th>\n      <td>317</td>\n      <td>Flugplatz Bautzen</td>\n      <td>Bautzen</td>\n      <td>Deutschland</td>\n      <td>0</td>\n      <td>EDAB</td>\n      <td>51.193611</td>\n      <td>14.519722</td>\n      <td>173</td>\n      <td>1</td>\n      <td>E</td>\n      <td>Europe/Berlin</td>\n      <td>51.193611, 14.519722</td>\n    </tr>\n    <tr>\n      <th>222</th>\n      <td>318</td>\n      <td>Altenburg-Nobitz Airport</td>\n      <td>Altenburg</td>\n      <td>Deutschland</td>\n      <td>AOC</td>\n      <td>EDAC</td>\n      <td>50.981945</td>\n      <td>12.506389</td>\n      <td>195</td>\n      <td>1</td>\n      <td>E</td>\n      <td>Europe/Berlin</td>\n      <td>50.981945, 12.506389</td>\n    </tr>\n    <tr>\n      <th>13</th>\n      <td>319</td>\n      <td>Dessau Airport</td>\n      <td>Dessau</td>\n      <td>Deutschland</td>\n      <td>0</td>\n      <td>EDAD</td>\n      <td>51.831694</td>\n      <td>12.190962</td>\n      <td>57</td>\n      <td>1</td>\n      <td>E</td>\n      <td>Europe/Berlin</td>\n      <td>51.831693541, 12.1909618378</td>\n    </tr>\n    <tr>\n      <th>139</th>\n      <td>320</td>\n      <td>Eisenhüttenstadt Airfield</td>\n      <td>Eisenhuettenstadt</td>\n      <td>Deutschland</td>\n      <td>0</td>\n      <td>EDAE</td>\n      <td>52.195856</td>\n      <td>14.587530</td>\n      <td>44</td>\n      <td>1</td>\n      <td>E</td>\n      <td>Europe/Berlin</td>\n      <td>52.195856, 14.58753</td>\n    </tr>\n    <tr>\n      <th>140</th>\n      <td>322</td>\n      <td>Großenhain Airport</td>\n      <td>Suhl</td>\n      <td>Deutschland</td>\n      <td>0</td>\n      <td>EDAK</td>\n      <td>51.308056</td>\n      <td>13.555556</td>\n      <td>127</td>\n      <td>1</td>\n      <td>E</td>\n      <td>Europe/Berlin</td>\n      <td>51.30805587768555, 13.555556297302246</td>\n    </tr>\n    <tr>\n      <th>...</th>\n      <td>...</td>\n      <td>...</td>\n      <td>...</td>\n      <td>...</td>\n      <td>...</td>\n      <td>...</td>\n      <td>...</td>\n      <td>...</td>\n      <td>...</td>\n      <td>...</td>\n      <td>...</td>\n      <td>...</td>\n      <td>...</td>\n    </tr>\n    <tr>\n      <th>219</th>\n      <td>13009</td>\n      <td>Vogtareuth Airport</td>\n      <td>Vogtareuth</td>\n      <td>Deutschland</td>\n      <td>0</td>\n      <td>EDNV</td>\n      <td>47.946110</td>\n      <td>12.204722</td>\n      <td>468</td>\n      <td>1</td>\n      <td>E</td>\n      <td>0</td>\n      <td>47.946109771728516, 12.20472240447998</td>\n    </tr>\n    <tr>\n      <th>220</th>\n      <td>13120</td>\n      <td>Rerik-Zweedorf Airport</td>\n      <td>Rerik</td>\n      <td>Deutschland</td>\n      <td>0</td>\n      <td>EDCR</td>\n      <td>54.081944</td>\n      <td>11.649167</td>\n      <td>9</td>\n      <td>1</td>\n      <td>E</td>\n      <td>0</td>\n      <td>54.08194351196289, 11.64916706085205</td>\n    </tr>\n    <tr>\n      <th>191</th>\n      <td>13183</td>\n      <td>Bonn-Hangelar Airport</td>\n      <td>Sankt-Augustin</td>\n      <td>Deutschland</td>\n      <td>BNJ</td>\n      <td>EDKB</td>\n      <td>50.768890</td>\n      <td>7.163333</td>\n      <td>60</td>\n      <td>1</td>\n      <td>E</td>\n      <td>0</td>\n      <td>50.7688903809, 7.16333293915</td>\n    </tr>\n    <tr>\n      <th>66</th>\n      <td>13199</td>\n      <td>Northeim Airport</td>\n      <td>Northeim</td>\n      <td>Deutschland</td>\n      <td>0</td>\n      <td>EDVN</td>\n      <td>51.706390</td>\n      <td>10.039722</td>\n      <td>123</td>\n      <td>1</td>\n      <td>E</td>\n      <td>0</td>\n      <td>51.706390380859375, 10.039722442626953</td>\n    </tr>\n    <tr>\n      <th>67</th>\n      <td>13248</td>\n      <td>Torgau-Beilrode Airport</td>\n      <td>Gransee</td>\n      <td>Deutschland</td>\n      <td>0</td>\n      <td>EDOG</td>\n      <td>51.570907</td>\n      <td>13.051641</td>\n      <td>0</td>\n      <td>1</td>\n      <td>E</td>\n      <td>0</td>\n      <td>51.570907, 13.051641</td>\n    </tr>\n  </tbody>\n</table>\n<p>249 rows × 13 columns</p>\n</div>"
     },
     "execution_count": 157,
     "metadata": {},
     "output_type": "execute_result"
    }
   ],
   "source": [
    "data = data.drop_duplicates(subset='Lfd. Nummer', keep=\"last\")\n",
    "data['Zeitzone'] = 1\n",
    "data"
   ],
   "metadata": {
    "collapsed": false,
    "ExecuteTime": {
     "end_time": "2024-01-12T18:40:16.969898Z",
     "start_time": "2024-01-12T18:40:16.760414Z"
    }
   },
   "id": "b8703c6a8d9b60ca",
   "execution_count": 157
  },
  {
   "cell_type": "code",
   "outputs": [
    {
     "data": {
      "text/plain": "221    1\n222    1\n13     1\n139    1\n140    1\n      ..\n219    1\n220    1\n191    1\n66     1\n67     1\nName: Zeitzone, Length: 249, dtype: int64"
     },
     "execution_count": 158,
     "metadata": {},
     "output_type": "execute_result"
    }
   ],
   "source": [
    "data['Zeitzone'] = 1\n",
    "data['Zeitzone']"
   ],
   "metadata": {
    "collapsed": false,
    "ExecuteTime": {
     "end_time": "2024-01-12T18:40:17.032894Z",
     "start_time": "2024-01-12T18:40:16.836898Z"
    }
   },
   "id": "8613b4c4960afdd",
   "execution_count": 158
  },
  {
   "cell_type": "code",
   "outputs": [
    {
     "name": "stderr",
     "output_type": "stream",
     "text": [
      "/Users/jan/opt/anaconda3/lib/python3.8/site-packages/pandas/core/indexing.py:1637: SettingWithCopyWarning: \n",
      "A value is trying to be set on a copy of a slice from a DataFrame\n",
      "\n",
      "See the caveats in the documentation: https://pandas.pydata.org/pandas-docs/stable/user_guide/indexing.html#returning-a-view-versus-a-copy\n",
      "  self._setitem_single_block(indexer, value, name)\n"
     ]
    },
    {
     "data": {
      "text/plain": "     Lfd. Nummer        Name des Flughafens                Ort         Land  \\\n221          317          Flugplatz Bautzen            Bautzen  Deutschland   \n222          318   Altenburg-Nobitz Airport          Altenburg  Deutschland   \n13           319             Dessau Airport             Dessau  Deutschland   \n139          320  Eisenhüttenstadt Airfield  Eisenhuettenstadt  Deutschland   \n140          322         Großenhain Airport               Suhl  Deutschland   \n..           ...                        ...                ...          ...   \n219        13009         Vogtareuth Airport         Vogtareuth  Deutschland   \n220        13120     Rerik-Zweedorf Airport              Rerik  Deutschland   \n191        13183      Bonn-Hangelar Airport     Sankt-Augustin  Deutschland   \n66         13199           Northeim Airport           Northeim  Deutschland   \n67         13248    Torgau-Beilrode Airport            Gransee  Deutschland   \n\n    IATA  ICAO   Latitude  Longitude  Altitude  Zeitzone DST  \\\n221    0  EDAB  51.193611  14.519722       173         1   E   \n222  AOC  EDAC  50.981945  12.506389       195         1   E   \n13     0  EDAD  51.831694  12.190962        57         1   E   \n139    0  EDAE  52.195856  14.587530        44         1   E   \n140    0  EDAK  51.308056  13.555556       127         1   E   \n..   ...   ...        ...        ...       ...       ...  ..   \n219    0  EDNV  47.946110  12.204722       468         1   E   \n220    0  EDCR  54.081944  11.649167         9         1   E   \n191  BNJ  EDKB  50.768890   7.163333        60         1   E   \n66     0  EDVN  51.706390  10.039722       123         1   E   \n67     0  EDOG  51.570907  13.051641         0         1   E   \n\n    Zeitzonen-Datenbank                               geo_punkt  \n221       Europe/Berlin                    51.193611, 14.519722  \n222       Europe/Berlin                    50.981945, 12.506389  \n13        Europe/Berlin             51.831693541, 12.1909618378  \n139       Europe/Berlin                     52.195856, 14.58753  \n140       Europe/Berlin   51.30805587768555, 13.555556297302246  \n..                  ...                                     ...  \n219                   0   47.946109771728516, 12.20472240447998  \n220                   0    54.08194351196289, 11.64916706085205  \n191                   0            50.7688903809, 7.16333293915  \n66                    0  51.706390380859375, 10.039722442626953  \n67                    0                    51.570907, 13.051641  \n\n[249 rows x 13 columns]",
      "text/html": "<div>\n<style scoped>\n    .dataframe tbody tr th:only-of-type {\n        vertical-align: middle;\n    }\n\n    .dataframe tbody tr th {\n        vertical-align: top;\n    }\n\n    .dataframe thead th {\n        text-align: right;\n    }\n</style>\n<table border=\"1\" class=\"dataframe\">\n  <thead>\n    <tr style=\"text-align: right;\">\n      <th></th>\n      <th>Lfd. Nummer</th>\n      <th>Name des Flughafens</th>\n      <th>Ort</th>\n      <th>Land</th>\n      <th>IATA</th>\n      <th>ICAO</th>\n      <th>Latitude</th>\n      <th>Longitude</th>\n      <th>Altitude</th>\n      <th>Zeitzone</th>\n      <th>DST</th>\n      <th>Zeitzonen-Datenbank</th>\n      <th>geo_punkt</th>\n    </tr>\n  </thead>\n  <tbody>\n    <tr>\n      <th>221</th>\n      <td>317</td>\n      <td>Flugplatz Bautzen</td>\n      <td>Bautzen</td>\n      <td>Deutschland</td>\n      <td>0</td>\n      <td>EDAB</td>\n      <td>51.193611</td>\n      <td>14.519722</td>\n      <td>173</td>\n      <td>1</td>\n      <td>E</td>\n      <td>Europe/Berlin</td>\n      <td>51.193611, 14.519722</td>\n    </tr>\n    <tr>\n      <th>222</th>\n      <td>318</td>\n      <td>Altenburg-Nobitz Airport</td>\n      <td>Altenburg</td>\n      <td>Deutschland</td>\n      <td>AOC</td>\n      <td>EDAC</td>\n      <td>50.981945</td>\n      <td>12.506389</td>\n      <td>195</td>\n      <td>1</td>\n      <td>E</td>\n      <td>Europe/Berlin</td>\n      <td>50.981945, 12.506389</td>\n    </tr>\n    <tr>\n      <th>13</th>\n      <td>319</td>\n      <td>Dessau Airport</td>\n      <td>Dessau</td>\n      <td>Deutschland</td>\n      <td>0</td>\n      <td>EDAD</td>\n      <td>51.831694</td>\n      <td>12.190962</td>\n      <td>57</td>\n      <td>1</td>\n      <td>E</td>\n      <td>Europe/Berlin</td>\n      <td>51.831693541, 12.1909618378</td>\n    </tr>\n    <tr>\n      <th>139</th>\n      <td>320</td>\n      <td>Eisenhüttenstadt Airfield</td>\n      <td>Eisenhuettenstadt</td>\n      <td>Deutschland</td>\n      <td>0</td>\n      <td>EDAE</td>\n      <td>52.195856</td>\n      <td>14.587530</td>\n      <td>44</td>\n      <td>1</td>\n      <td>E</td>\n      <td>Europe/Berlin</td>\n      <td>52.195856, 14.58753</td>\n    </tr>\n    <tr>\n      <th>140</th>\n      <td>322</td>\n      <td>Großenhain Airport</td>\n      <td>Suhl</td>\n      <td>Deutschland</td>\n      <td>0</td>\n      <td>EDAK</td>\n      <td>51.308056</td>\n      <td>13.555556</td>\n      <td>127</td>\n      <td>1</td>\n      <td>E</td>\n      <td>Europe/Berlin</td>\n      <td>51.30805587768555, 13.555556297302246</td>\n    </tr>\n    <tr>\n      <th>...</th>\n      <td>...</td>\n      <td>...</td>\n      <td>...</td>\n      <td>...</td>\n      <td>...</td>\n      <td>...</td>\n      <td>...</td>\n      <td>...</td>\n      <td>...</td>\n      <td>...</td>\n      <td>...</td>\n      <td>...</td>\n      <td>...</td>\n    </tr>\n    <tr>\n      <th>219</th>\n      <td>13009</td>\n      <td>Vogtareuth Airport</td>\n      <td>Vogtareuth</td>\n      <td>Deutschland</td>\n      <td>0</td>\n      <td>EDNV</td>\n      <td>47.946110</td>\n      <td>12.204722</td>\n      <td>468</td>\n      <td>1</td>\n      <td>E</td>\n      <td>0</td>\n      <td>47.946109771728516, 12.20472240447998</td>\n    </tr>\n    <tr>\n      <th>220</th>\n      <td>13120</td>\n      <td>Rerik-Zweedorf Airport</td>\n      <td>Rerik</td>\n      <td>Deutschland</td>\n      <td>0</td>\n      <td>EDCR</td>\n      <td>54.081944</td>\n      <td>11.649167</td>\n      <td>9</td>\n      <td>1</td>\n      <td>E</td>\n      <td>0</td>\n      <td>54.08194351196289, 11.64916706085205</td>\n    </tr>\n    <tr>\n      <th>191</th>\n      <td>13183</td>\n      <td>Bonn-Hangelar Airport</td>\n      <td>Sankt-Augustin</td>\n      <td>Deutschland</td>\n      <td>BNJ</td>\n      <td>EDKB</td>\n      <td>50.768890</td>\n      <td>7.163333</td>\n      <td>60</td>\n      <td>1</td>\n      <td>E</td>\n      <td>0</td>\n      <td>50.7688903809, 7.16333293915</td>\n    </tr>\n    <tr>\n      <th>66</th>\n      <td>13199</td>\n      <td>Northeim Airport</td>\n      <td>Northeim</td>\n      <td>Deutschland</td>\n      <td>0</td>\n      <td>EDVN</td>\n      <td>51.706390</td>\n      <td>10.039722</td>\n      <td>123</td>\n      <td>1</td>\n      <td>E</td>\n      <td>0</td>\n      <td>51.706390380859375, 10.039722442626953</td>\n    </tr>\n    <tr>\n      <th>67</th>\n      <td>13248</td>\n      <td>Torgau-Beilrode Airport</td>\n      <td>Gransee</td>\n      <td>Deutschland</td>\n      <td>0</td>\n      <td>EDOG</td>\n      <td>51.570907</td>\n      <td>13.051641</td>\n      <td>0</td>\n      <td>1</td>\n      <td>E</td>\n      <td>0</td>\n      <td>51.570907, 13.051641</td>\n    </tr>\n  </tbody>\n</table>\n<p>249 rows × 13 columns</p>\n</div>"
     },
     "execution_count": 159,
     "metadata": {},
     "output_type": "execute_result"
    }
   ],
   "source": [
    "for i in range(len(data)):\n",
    "    if data['Longitude'].iloc[i] < 0:\n",
    "        data['Longitude'].iloc[i] *= -1\n",
    "    if data['Longitude'].iloc[i] > 40:\n",
    "        data['Longitude'].iloc[i] /= 10\n",
    "data"
   ],
   "metadata": {
    "collapsed": false,
    "ExecuteTime": {
     "end_time": "2024-01-12T18:40:17.186956Z",
     "start_time": "2024-01-12T18:40:17.020656Z"
    }
   },
   "id": "f4a7202437c9be65",
   "execution_count": 159
  },
  {
   "cell_type": "code",
   "outputs": [
    {
     "data": {
      "text/plain": "        Lfd. Nummer    Latitude   Longitude     Altitude  Zeitzone\ncount    249.000000  249.000000  249.000000   249.000000     249.0\nmean    4286.542169   51.234932    9.928078   185.096386       1.0\nstd     4251.369419    2.521420    2.255042   206.592962       0.0\nmin      317.000000   30.704399    4.580833     0.000000       1.0\n25%      380.000000   49.863888    8.196389    38.000000       1.0\n50%      783.000000   51.518299    9.578611    97.000000       1.0\n75%     8101.000000   52.827221   11.767200   319.000000       1.0\nmax    13248.000000   59.345100   17.740499  1703.000000       1.0",
      "text/html": "<div>\n<style scoped>\n    .dataframe tbody tr th:only-of-type {\n        vertical-align: middle;\n    }\n\n    .dataframe tbody tr th {\n        vertical-align: top;\n    }\n\n    .dataframe thead th {\n        text-align: right;\n    }\n</style>\n<table border=\"1\" class=\"dataframe\">\n  <thead>\n    <tr style=\"text-align: right;\">\n      <th></th>\n      <th>Lfd. Nummer</th>\n      <th>Latitude</th>\n      <th>Longitude</th>\n      <th>Altitude</th>\n      <th>Zeitzone</th>\n    </tr>\n  </thead>\n  <tbody>\n    <tr>\n      <th>count</th>\n      <td>249.000000</td>\n      <td>249.000000</td>\n      <td>249.000000</td>\n      <td>249.000000</td>\n      <td>249.0</td>\n    </tr>\n    <tr>\n      <th>mean</th>\n      <td>4286.542169</td>\n      <td>51.234932</td>\n      <td>9.928078</td>\n      <td>185.096386</td>\n      <td>1.0</td>\n    </tr>\n    <tr>\n      <th>std</th>\n      <td>4251.369419</td>\n      <td>2.521420</td>\n      <td>2.255042</td>\n      <td>206.592962</td>\n      <td>0.0</td>\n    </tr>\n    <tr>\n      <th>min</th>\n      <td>317.000000</td>\n      <td>30.704399</td>\n      <td>4.580833</td>\n      <td>0.000000</td>\n      <td>1.0</td>\n    </tr>\n    <tr>\n      <th>25%</th>\n      <td>380.000000</td>\n      <td>49.863888</td>\n      <td>8.196389</td>\n      <td>38.000000</td>\n      <td>1.0</td>\n    </tr>\n    <tr>\n      <th>50%</th>\n      <td>783.000000</td>\n      <td>51.518299</td>\n      <td>9.578611</td>\n      <td>97.000000</td>\n      <td>1.0</td>\n    </tr>\n    <tr>\n      <th>75%</th>\n      <td>8101.000000</td>\n      <td>52.827221</td>\n      <td>11.767200</td>\n      <td>319.000000</td>\n      <td>1.0</td>\n    </tr>\n    <tr>\n      <th>max</th>\n      <td>13248.000000</td>\n      <td>59.345100</td>\n      <td>17.740499</td>\n      <td>1703.000000</td>\n      <td>1.0</td>\n    </tr>\n  </tbody>\n</table>\n</div>"
     },
     "execution_count": 160,
     "metadata": {},
     "output_type": "execute_result"
    }
   ],
   "source": [
    "data.describe()"
   ],
   "metadata": {
    "collapsed": false,
    "ExecuteTime": {
     "end_time": "2024-01-12T18:40:17.452897Z",
     "start_time": "2024-01-12T18:40:17.111475Z"
    }
   },
   "id": "4ae22a41189680df",
   "execution_count": 160
  },
  {
   "cell_type": "markdown",
   "source": [],
   "metadata": {
    "collapsed": false
   },
   "id": "b97b15a2e3e97bc"
  },
  {
   "cell_type": "code",
   "outputs": [],
   "source": [
    "data.to_csv(\"AirportsGermany\")"
   ],
   "metadata": {
    "collapsed": false,
    "ExecuteTime": {
     "end_time": "2024-01-12T18:47:27.949225Z",
     "start_time": "2024-01-12T18:47:27.710251Z"
    }
   },
   "id": "423c2410cd835302",
   "execution_count": 161
  }
 ],
 "metadata": {
  "kernelspec": {
   "display_name": "Python 3",
   "language": "python",
   "name": "python3"
  },
  "language_info": {
   "codemirror_mode": {
    "name": "ipython",
    "version": 2
   },
   "file_extension": ".py",
   "mimetype": "text/x-python",
   "name": "python",
   "nbconvert_exporter": "python",
   "pygments_lexer": "ipython2",
   "version": "2.7.6"
  }
 },
 "nbformat": 4,
 "nbformat_minor": 5
}
